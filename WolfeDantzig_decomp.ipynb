{
  "nbformat": 4,
  "nbformat_minor": 0,
  "metadata": {
    "colab": {
      "provenance": [],
      "authorship_tag": "ABX9TyNNTe0+9yy6b8Fdr3u4Kftu",
      "include_colab_link": true
    },
    "kernelspec": {
      "name": "python3",
      "display_name": "Python 3"
    },
    "language_info": {
      "name": "python"
    }
  },
  "cells": [
    {
      "cell_type": "markdown",
      "metadata": {
        "id": "view-in-github",
        "colab_type": "text"
      },
      "source": [
        "<a href=\"https://colab.research.google.com/github/TheAmirHK/DantzigWolfeDecomposition/blob/main/WolfeDantzig_decomp.ipynb\" target=\"_parent\"><img src=\"https://colab.research.google.com/assets/colab-badge.svg\" alt=\"Open In Colab\"/></a>"
      ]
    },
    {
      "cell_type": "markdown",
      "source": [
        "# Objective Function (**Original Problem**)\n",
        "\n",
        "$$max Z = 3x_{1,1} + 5x_{1,2} + 4x_{2,1} + 2x_{2,2} + 1x_{3,1} + 6x_{3,2}$$\n",
        "\n",
        "### Constraints:\n",
        "\n",
        "$$1x_{1,1} + 2x_{1,2} \\leq 4$$\n",
        "$$3x_{1,1} + 1x_{1,2} \\leq 6$$\n",
        "$$2x_{2,1} + 1x_{2,2} \\leq 5$$\n",
        "$$-1x_{2,1} + 2x_{2,2} \\leq 7$$\n",
        "$$1x_{3,1} - 1x_{3,2} \\leq 3$$\n",
        "$$2x_{3,1} + 3x_{3,2} \\leq 8$$\n",
        "\n",
        "$$(x_{1,1} + 2x_{1,2}) + (2x_{2,1} + 1x_{2,2}) + (1x_{3,1} + 1x_{3,2}) \\leq 10$$\n",
        "$$(3x_{1,1} + 1x_{1,2}) + (1x_{2,1} + 2x_{2,2}) + (2x_{3,1} + 3x_{3,2}) \\leq 15$$\n",
        "\n",
        "$$x_{i,j} \\geq 0, \\quad \\forall i, j$$\n",
        "\n"
      ],
      "metadata": {
        "id": "QJKXJzoKS7Uw"
      }
    },
    {
      "cell_type": "code",
      "source": [
        "!pip install mip"
      ],
      "metadata": {
        "id": "Tts2Qzh2FTPU"
      },
      "execution_count": null,
      "outputs": []
    },
    {
      "cell_type": "code",
      "source": [
        "from mip import Model, MAXIMIZE, xsum, CONTINUOUS\n",
        "import numpy as np"
      ],
      "metadata": {
        "id": "UkKmxZmbQvRh"
      },
      "execution_count": 14,
      "outputs": []
    },
    {
      "cell_type": "code",
      "source": [
        "# Main problem parameters\n",
        "num_units = 3\n",
        "num_resources = 2\n",
        "num_variables_per_unit = 2\n",
        "\n",
        "resource_limits = [10, 15]\n",
        "\n",
        "unit_objectives = [\n",
        "    np.array([3, 5]),\n",
        "    np.array([4, 2]),\n",
        "    np.array([1, 6])]\n",
        "\n",
        "unit_constraints = [\n",
        "    np.array([[1, 2], [3, 1]]),\n",
        "    np.array([[2, 1], [-1, 2]]),\n",
        "    np.array([[1, -1], [2, 3]])]\n",
        "\n",
        "unit_rhs = [\n",
        "    np.array([4, 6]),\n",
        "    np.array([5, 7]),\n",
        "    np.array([3, 8])]"
      ],
      "metadata": {
        "id": "y5F2XUiwRuqw"
      },
      "execution_count": 15,
      "outputs": []
    },
    {
      "cell_type": "code",
      "source": [
        "# Original problem\n",
        "#--------------\n",
        "\n",
        "model = Model(sense=MAXIMIZE)\n",
        "\n",
        "x = [[model.add_var(name=f\"x_{i}_{j}\", lb=0, var_type=CONTINUOUS)\n",
        "      for j in range(num_variables_per_unit)] for i in range(num_units)]\n",
        "\n",
        "model.objective = xsum(unit_objectives[i][j] * x[i][j]\n",
        "                       for i in range(num_units)\n",
        "                       for j in range(num_variables_per_unit))\n",
        "\n",
        "for i in range(num_units):\n",
        "    for r in range(num_resources):\n",
        "        model += xsum(unit_constraints[i][r][j] * x[i][j]\n",
        "                      for j in range(num_variables_per_unit)) <= unit_rhs[i][r]\n",
        "\n",
        "for r in range(num_resources):\n",
        "    model += xsum(unit_constraints[i][r][j] * x[i][j]\n",
        "                  for i in range(num_units)\n",
        "                  for j in range(num_variables_per_unit)) <= resource_limits[r]\n",
        "\n",
        "model.optimize()\n",
        "\n",
        "print(\"Optimization Status:\", model.status)\n",
        "print(\"Objective Value:\", model.objective_value)\n",
        "for i in range(num_units):\n",
        "    for j in range(num_variables_per_unit):\n",
        "        print(f\"x_{i}_{j}: {x[i][j].x}\")"
      ],
      "metadata": {
        "colab": {
          "base_uri": "https://localhost:8080/"
        },
        "id": "KlBwaDhIPyJD",
        "outputId": "27acb0fc-09ba-4a98-d215-328f5c190362"
      },
      "execution_count": 26,
      "outputs": [
        {
          "output_type": "stream",
          "name": "stdout",
          "text": [
            "Optimization Status: OptimizationStatus.OPTIMAL\n",
            "Objective Value: 36.8\n",
            "x_0_0: 1.6\n",
            "x_0_1: 1.2\n",
            "x_1_0: 2.5\n",
            "x_1_1: 0.0\n",
            "x_2_0: 0.0\n",
            "x_2_1: 2.6666666666666665\n"
          ]
        }
      ]
    },
    {
      "cell_type": "code",
      "source": [
        "# Wolfe-Dantzing decomposition\n",
        "#-----------------------------\n",
        "\n",
        "# Master problem\n",
        "master_problem = Model(sense=MAXIMIZE)\n",
        "\n",
        "lambda_vars = [master_problem.add_var(name=f\"lambda_{i}\", lb=0, var_type=CONTINUOUS) for i in range(num_units)]\n",
        "\n",
        "master_problem.objective = xsum(lambda_vars[i] * unit_objectives[i].sum() for i in range(num_units))\n",
        "\n",
        "for r in range(num_resources):\n",
        "    master_problem += xsum(lambda_vars[i] * unit_constraints[i][r].sum() for i in range(num_units)) <= resource_limits[r]\n",
        "\n",
        "master_problem.optimize()\n",
        "\n",
        "lambda_opt = [lambda_vars[i].x for i in range(num_units)]\n",
        "\n",
        "print(\"Master Problem Results:\")\n",
        "print(f\"Objective Value: {master_problem.objective_value}\")\n",
        "for i in range(num_units):\n",
        "    print(f\"lambda_{i}:\", lambda_opt[i])\n",
        "\n",
        "\n",
        "# Subproblems\n",
        "for i in range(num_units):\n",
        "    subproblem = Model(sense=MAXIMIZE)\n",
        "\n",
        "    x = [subproblem.add_var(name=f\"x_{i}_{j}\", lb=0, var_type=CONTINUOUS) for j in range(num_variables_per_unit)]\n",
        "\n",
        "    subproblem.objective = xsum(unit_objectives[i][j] * x[j] for j in range(num_variables_per_unit))\n",
        "\n",
        "    for r in range(num_resources):\n",
        "        subproblem += xsum(unit_constraints[i][r][j] * x[j] for j in range(num_variables_per_unit)) <= unit_rhs[i][r]\n",
        "\n",
        "    subproblem.optimize()\n",
        "\n",
        "    print(f\"\\nSubproblem Unit {i} Results:\")\n",
        "    print(f\"Objective Value: {subproblem.objective_value}\")\n",
        "    for j in range(num_variables_per_unit):\n",
        "        print(f\"x_{i}_{j}:\", x[j].x)"
      ],
      "metadata": {
        "colab": {
          "base_uri": "https://localhost:8080/"
        },
        "id": "tixteBvqPZY8",
        "outputId": "dcffb1c5-3de8-4daf-dc54-174c050d7a65"
      },
      "execution_count": 28,
      "outputs": [
        {
          "output_type": "stream",
          "name": "stdout",
          "text": [
            "Master Problem Results:\n",
            "Objective Value: 36.333333333333336\n",
            "lambda_0: 0.0\n",
            "lambda_1: 3.3333333333333335\n",
            "lambda_2: 2.3333333333333335\n",
            "\n",
            "Subproblem Unit 0 Results:\n",
            "Objective Value: 10.8\n",
            "x_0_0: 1.6\n",
            "x_0_1: 1.2\n",
            "\n",
            "Subproblem Unit 1 Results:\n",
            "Objective Value: 10.0\n",
            "x_1_0: 2.5\n",
            "x_1_1: 0.0\n",
            "\n",
            "Subproblem Unit 2 Results:\n",
            "Objective Value: 16.0\n",
            "x_2_0: 0.0\n",
            "x_2_1: 2.6666666666666665\n"
          ]
        }
      ]
    }
  ]
}